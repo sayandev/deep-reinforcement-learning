{
 "cells": [
  {
   "cell_type": "markdown",
   "metadata": {},
   "source": [
    "# Continuous Control\n",
    "\n",
    "Follow the instructions below to get started!\n",
    "\n",
    "### 1. Start the Environment\n",
    "\n",
    "Run the next code cell to install a few packages.  This line will take a few minutes to run!"
   ]
  },
  {
   "cell_type": "code",
   "execution_count": 1,
   "metadata": {},
   "outputs": [],
   "source": [
    "!pip -q install ./python"
   ]
  },
  {
   "cell_type": "code",
   "execution_count": 2,
   "metadata": {},
   "outputs": [
    {
     "name": "stderr",
     "output_type": "stream",
     "text": [
      "INFO:unityagents:\n",
      "'Academy' started successfully!\n",
      "Unity Academy name: Academy\n",
      "        Number of Brains: 1\n",
      "        Number of External Brains : 1\n",
      "        Lesson number : 0\n",
      "        Reset Parameters :\n",
      "\t\tgoal_speed -> 1.0\n",
      "\t\tgoal_size -> 5.0\n",
      "Unity brain name: ReacherBrain\n",
      "        Number of Visual Observations (per agent): 0\n",
      "        Vector Observation space type: continuous\n",
      "        Vector Observation space size (per agent): 33\n",
      "        Number of stacked Vector Observation: 1\n",
      "        Vector Action space type: continuous\n",
      "        Vector Action space size (per agent): 4\n",
      "        Vector Action descriptions: , , , \n"
     ]
    }
   ],
   "source": [
    "import random\n",
    "import torch\n",
    "import time\n",
    "import numpy as np\n",
    "from collections import deque\n",
    "import matplotlib.pyplot as plt\n",
    "%matplotlib inline\n",
    "\n",
    "from ddpg_agent import Agent, ReplayBuffer\n",
    "\n",
    "from unityagents import UnityEnvironment\n",
    "import numpy as np\n",
    "\n",
    "\n",
    "# Load Reacher env with 20 agents\n",
    "env = UnityEnvironment(file_name='/data/Reacher_Linux_NoVis/Reacher.x86_64')"
   ]
  },
  {
   "cell_type": "code",
   "execution_count": 3,
   "metadata": {},
   "outputs": [],
   "source": [
    "# get the default brain information\n",
    "# Environments contain brains which are responsible for deciding the actions of their associated agents. \n",
    "# Here we check for the first brain available, and set it as the default brain we will be controlling from Python.\n",
    "brain_name = env.brain_names[0]\n",
    "brain = env.brains[brain_name]"
   ]
  },
  {
   "cell_type": "markdown",
   "metadata": {},
   "source": [
    "### 2. Examine State and Action Spaces\n",
    "\n",
    "Execute the code cell below to print some information about the environment."
   ]
  },
  {
   "cell_type": "code",
   "execution_count": 4,
   "metadata": {},
   "outputs": [
    {
     "name": "stdout",
     "output_type": "stream",
     "text": [
      "Number of agents: 20\n",
      "Size of each action: 4\n",
      "There are 20 agents. Each observes a state with length: 33\n",
      "The state for the first agent looks like: [  0.00000000e+00  -4.00000000e+00   0.00000000e+00   1.00000000e+00\n",
      "  -0.00000000e+00  -0.00000000e+00  -4.37113883e-08   0.00000000e+00\n",
      "   0.00000000e+00   0.00000000e+00   0.00000000e+00   0.00000000e+00\n",
      "   0.00000000e+00   0.00000000e+00  -1.00000000e+01   0.00000000e+00\n",
      "   1.00000000e+00  -0.00000000e+00  -0.00000000e+00  -4.37113883e-08\n",
      "   0.00000000e+00   0.00000000e+00   0.00000000e+00   0.00000000e+00\n",
      "   0.00000000e+00   0.00000000e+00   5.75471878e+00  -1.00000000e+00\n",
      "   5.55726624e+00   0.00000000e+00   1.00000000e+00   0.00000000e+00\n",
      "  -1.68164849e-01]\n"
     ]
    }
   ],
   "source": [
    "# reset the environment\n",
    "env_info = env.reset(train_mode=True)[brain_name]\n",
    "\n",
    "# number of agents\n",
    "num_agents = len(env_info.agents)\n",
    "print('Number of agents:', num_agents)\n",
    "\n",
    "# size of each action\n",
    "action_size = brain.vector_action_space_size\n",
    "print('Size of each action:', action_size)\n",
    "\n",
    "# examine the state space \n",
    "states = env_info.vector_observations\n",
    "state_size = states.shape[1]\n",
    "print('There are {} agents. Each observes a state with length: {}'.format(states.shape[0], state_size))\n",
    "print('The state for the first agent looks like:', states[0])"
   ]
  },
  {
   "cell_type": "markdown",
   "metadata": {},
   "source": [
    "### 3. DDPG Agents Initialization\n",
    "\n",
    "Execute the code cell below to instantiate the DDPG Agents"
   ]
  },
  {
   "cell_type": "code",
   "execution_count": 5,
   "metadata": {},
   "outputs": [],
   "source": [
    "random_seed = 7\n",
    "train_mode = True\n",
    "\n",
    "agent = Agent(state_size=state_size, action_size=action_size, random_seed=random_seed)"
   ]
  },
  {
   "cell_type": "markdown",
   "metadata": {},
   "source": [
    "### 4.Train the Agents using DDPG\n",
    "\n",
    "Function Definaton to train the Agents using DDPG"
   ]
  },
  {
   "cell_type": "code",
   "execution_count": 6,
   "metadata": {},
   "outputs": [],
   "source": [
    "def ddpg(n_episodes=2000, max_t=1000, print_every=10, learn_every=20, num_learn=10, goal_score=30):\n",
    "    total_scores_deque = deque(maxlen=100)\n",
    "    total_scores = []\n",
    "    \n",
    "    for i_episode in range(1, n_episodes+1):\n",
    "        # Reset Env and Agent\n",
    "        env_info = env.reset(train_mode=train_mode)[brain_name]       # reset the environment    \n",
    "        states = env_info.vector_observations                   # get the current state (for each agent)\n",
    "        scores = np.zeros(num_agents)                            # initialize the score (for each agent)\n",
    "        agent.reset()\n",
    "        \n",
    "        start_time = time.time()\n",
    "        \n",
    "        for t in range(max_t):\n",
    "            actions = agent.act(states)\n",
    "            \n",
    "            env_info = env.step(actions)[brain_name]            # send all actions to the environment\n",
    "            next_states = env_info.vector_observations          # get next state (for each agent)\n",
    "            rewards = env_info.rewards                          # get reward (for each agent)\n",
    "            \n",
    "            dones = env_info.local_done                         # see if episode finished\n",
    "            \n",
    "            for state, action, reward, next_state, done in zip(states, actions, rewards, next_states, dones):\n",
    "                agent.step(state, action, reward, next_state, done) # send actions to the agent\n",
    "            \n",
    "            scores += env_info.rewards                           # update the score (for each agent)\n",
    "            states = next_states                                # roll over states to next time step\n",
    "            \n",
    "            if t%learn_every == 0:\n",
    "                for _ in range(num_learn):\n",
    "                    agent.start_learn()\n",
    "            \n",
    "            if np.any(dones):                                   # exit loop if episode finished\n",
    "                break\n",
    "    \n",
    "        mean_score = np.mean(scores)\n",
    "        min_score = np.min(scores)\n",
    "        max_score = np.max(scores)\n",
    "        total_scores_deque.append(mean_score)\n",
    "        total_scores.append(mean_score)\n",
    "        total_average_score = np.mean(total_scores_deque)\n",
    "        duration = time.time() - start_time\n",
    "        \n",
    "        print('\\rEpisode#=> {}\\tTotal Average Score=> {:.2f}\\tMean=> {:.2f}\\tMin=> {:.2f}\\tMax=> {:.2f}\\t Time Duration=> {:.2f}'\n",
    "              .format(i_episode, total_average_score, mean_score, min_score, max_score, duration))\n",
    "\n",
    "        if i_episode % print_every == 0:\n",
    "            torch.save(agent.actor_local.state_dict(), 'checkpoint_actor.pth')\n",
    "            torch.save(agent.critic_local.state_dict(), 'checkpoint_critic.pth')\n",
    "            print('\\rEpisode#=> {}\\tTotal Average Score=> {:.2f}'.format(i_episode, total_average_score))  \n",
    "            \n",
    "        if total_average_score >= goal_score and i_episode >= 100:\n",
    "            print('!!!!!Problem Been Solved after {} # Episodes!!!! Total Average score=> {:.2f}'.format(i_episode, total_average_score))\n",
    "            torch.save(agent.actor_local.state_dict(), 'checkpoint_actor.pth')\n",
    "            torch.save(agent.critic_local.state_dict(), 'checkpoint_critic.pth')\n",
    "            break\n",
    "    \n",
    "    return total_scores"
   ]
  },
  {
   "cell_type": "markdown",
   "metadata": {},
   "source": [
    "#### Execute the code cell below to train the Agents using DDPG"
   ]
  },
  {
   "cell_type": "code",
   "execution_count": 7,
   "metadata": {
    "scrolled": true
   },
   "outputs": [
    {
     "name": "stderr",
     "output_type": "stream",
     "text": [
      "/home/workspace/ddpg_agent.py:104: UserWarning: torch.nn.utils.clip_grad_norm is now deprecated in favor of torch.nn.utils.clip_grad_norm_.\n",
      "  torch.nn.utils.clip_grad_norm(self.critic_local.parameters(), 1)\n"
     ]
    },
    {
     "name": "stdout",
     "output_type": "stream",
     "text": [
      "Episode#=> 1\tTotal Average Score=> 0.48\tMean=> 0.48\tMin=> 0.00\tMax=> 1.13\t Time Duration=> 22.14\n",
      "Episode#=> 2\tTotal Average Score=> 0.62\tMean=> 0.76\tMin=> 0.19\tMax=> 1.57\t Time Duration=> 23.59\n",
      "Episode#=> 3\tTotal Average Score=> 0.66\tMean=> 0.74\tMin=> 0.09\tMax=> 1.55\t Time Duration=> 24.06\n",
      "Episode#=> 4\tTotal Average Score=> 0.70\tMean=> 0.82\tMin=> 0.05\tMax=> 1.77\t Time Duration=> 24.22\n",
      "Episode#=> 5\tTotal Average Score=> 0.73\tMean=> 0.82\tMin=> 0.16\tMax=> 1.75\t Time Duration=> 24.56\n",
      "Episode#=> 6\tTotal Average Score=> 0.74\tMean=> 0.84\tMin=> 0.00\tMax=> 1.59\t Time Duration=> 24.84\n",
      "Episode#=> 7\tTotal Average Score=> 0.81\tMean=> 1.21\tMin=> 0.06\tMax=> 3.79\t Time Duration=> 25.27\n",
      "Episode#=> 8\tTotal Average Score=> 0.87\tMean=> 1.25\tMin=> 0.08\tMax=> 3.07\t Time Duration=> 25.45\n",
      "Episode#=> 9\tTotal Average Score=> 0.92\tMean=> 1.33\tMin=> 0.34\tMax=> 3.47\t Time Duration=> 25.92\n",
      "Episode#=> 10\tTotal Average Score=> 0.93\tMean=> 1.01\tMin=> 0.10\tMax=> 1.68\t Time Duration=> 26.23\n",
      "Episode#=> 10\tTotal Average Score=> 0.93\n",
      "Episode#=> 11\tTotal Average Score=> 0.99\tMean=> 1.57\tMin=> 0.52\tMax=> 2.38\t Time Duration=> 26.75\n",
      "Episode#=> 12\tTotal Average Score=> 1.03\tMean=> 1.54\tMin=> 0.29\tMax=> 3.95\t Time Duration=> 27.49\n",
      "Episode#=> 13\tTotal Average Score=> 1.10\tMean=> 1.95\tMin=> 0.63\tMax=> 3.30\t Time Duration=> 27.88\n",
      "Episode#=> 14\tTotal Average Score=> 1.21\tMean=> 2.64\tMin=> 0.46\tMax=> 5.94\t Time Duration=> 28.69\n",
      "Episode#=> 15\tTotal Average Score=> 1.32\tMean=> 2.85\tMin=> 1.38\tMax=> 5.22\t Time Duration=> 29.57\n",
      "Episode#=> 16\tTotal Average Score=> 1.42\tMean=> 2.88\tMin=> 0.84\tMax=> 7.03\t Time Duration=> 30.40\n",
      "Episode#=> 17\tTotal Average Score=> 1.52\tMean=> 3.19\tMin=> 1.60\tMax=> 5.10\t Time Duration=> 31.14\n",
      "Episode#=> 18\tTotal Average Score=> 1.68\tMean=> 4.33\tMin=> 2.01\tMax=> 6.59\t Time Duration=> 31.87\n",
      "Episode#=> 19\tTotal Average Score=> 1.88\tMean=> 5.47\tMin=> 2.21\tMax=> 8.79\t Time Duration=> 32.78\n",
      "Episode#=> 20\tTotal Average Score=> 2.11\tMean=> 6.45\tMin=> 3.39\tMax=> 9.07\t Time Duration=> 33.83\n",
      "Episode#=> 20\tTotal Average Score=> 2.11\n",
      "Episode#=> 21\tTotal Average Score=> 2.46\tMean=> 9.53\tMin=> 1.85\tMax=> 15.91\t Time Duration=> 34.82\n",
      "Episode#=> 22\tTotal Average Score=> 2.87\tMean=> 11.38\tMin=> 3.21\tMax=> 17.01\t Time Duration=> 35.66\n",
      "Episode#=> 23\tTotal Average Score=> 3.50\tMean=> 17.39\tMin=> 11.74\tMax=> 28.21\t Time Duration=> 36.76\n",
      "Episode#=> 24\tTotal Average Score=> 4.10\tMean=> 17.92\tMin=> 8.71\tMax=> 27.58\t Time Duration=> 37.52\n",
      "Episode#=> 25\tTotal Average Score=> 4.80\tMean=> 21.68\tMin=> 7.50\tMax=> 34.34\t Time Duration=> 38.60\n",
      "Episode#=> 26\tTotal Average Score=> 5.62\tMean=> 26.08\tMin=> 14.61\tMax=> 38.99\t Time Duration=> 39.54\n",
      "Episode#=> 27\tTotal Average Score=> 6.51\tMean=> 29.59\tMin=> 15.23\tMax=> 37.01\t Time Duration=> 40.64\n",
      "Episode#=> 28\tTotal Average Score=> 7.32\tMean=> 29.25\tMin=> 18.75\tMax=> 35.71\t Time Duration=> 41.92\n",
      "Episode#=> 29\tTotal Average Score=> 8.17\tMean=> 32.08\tMin=> 26.39\tMax=> 38.32\t Time Duration=> 42.79\n",
      "Episode#=> 30\tTotal Average Score=> 8.88\tMean=> 29.43\tMin=> 20.32\tMax=> 38.16\t Time Duration=> 44.06\n",
      "Episode#=> 30\tTotal Average Score=> 8.88\n",
      "Episode#=> 31\tTotal Average Score=> 9.62\tMean=> 31.88\tMin=> 25.18\tMax=> 39.40\t Time Duration=> 44.81\n",
      "Episode#=> 32\tTotal Average Score=> 10.42\tMean=> 34.94\tMin=> 28.55\tMax=> 39.49\t Time Duration=> 45.92\n",
      "Episode#=> 33\tTotal Average Score=> 11.20\tMean=> 36.18\tMin=> 28.37\tMax=> 39.29\t Time Duration=> 46.71\n",
      "Episode#=> 34\tTotal Average Score=> 11.92\tMean=> 35.78\tMin=> 31.25\tMax=> 38.89\t Time Duration=> 48.01\n",
      "Episode#=> 35\tTotal Average Score=> 12.63\tMean=> 36.88\tMin=> 32.74\tMax=> 39.07\t Time Duration=> 49.23\n",
      "Episode#=> 36\tTotal Average Score=> 13.29\tMean=> 36.23\tMin=> 31.82\tMax=> 39.03\t Time Duration=> 50.10\n",
      "Episode#=> 37\tTotal Average Score=> 13.95\tMean=> 37.87\tMin=> 34.05\tMax=> 39.59\t Time Duration=> 51.04\n",
      "Episode#=> 38\tTotal Average Score=> 14.59\tMean=> 38.09\tMin=> 34.40\tMax=> 39.66\t Time Duration=> 51.93\n",
      "Episode#=> 39\tTotal Average Score=> 15.17\tMean=> 37.33\tMin=> 34.26\tMax=> 39.43\t Time Duration=> 53.07\n",
      "Episode#=> 40\tTotal Average Score=> 15.74\tMean=> 37.87\tMin=> 34.52\tMax=> 39.52\t Time Duration=> 53.81\n",
      "Episode#=> 40\tTotal Average Score=> 15.74\n",
      "Episode#=> 41\tTotal Average Score=> 16.30\tMean=> 38.58\tMin=> 37.42\tMax=> 39.60\t Time Duration=> 55.19\n",
      "Episode#=> 42\tTotal Average Score=> 16.83\tMean=> 38.89\tMin=> 37.31\tMax=> 39.59\t Time Duration=> 55.85\n",
      "Episode#=> 43\tTotal Average Score=> 17.33\tMean=> 38.34\tMin=> 37.31\tMax=> 39.37\t Time Duration=> 57.43\n",
      "Episode#=> 44\tTotal Average Score=> 17.81\tMean=> 38.49\tMin=> 36.06\tMax=> 39.64\t Time Duration=> 58.12\n",
      "Episode#=> 45\tTotal Average Score=> 18.28\tMean=> 38.74\tMin=> 37.02\tMax=> 39.55\t Time Duration=> 58.82\n",
      "Episode#=> 46\tTotal Average Score=> 18.71\tMean=> 38.17\tMin=> 36.48\tMax=> 39.46\t Time Duration=> 60.27\n",
      "Episode#=> 47\tTotal Average Score=> 19.11\tMean=> 37.43\tMin=> 35.05\tMax=> 39.25\t Time Duration=> 61.29\n",
      "Episode#=> 48\tTotal Average Score=> 19.52\tMean=> 38.74\tMin=> 37.02\tMax=> 39.55\t Time Duration=> 62.05\n",
      "Episode#=> 49\tTotal Average Score=> 19.92\tMean=> 39.02\tMin=> 37.51\tMax=> 39.60\t Time Duration=> 63.06\n",
      "Episode#=> 50\tTotal Average Score=> 20.30\tMean=> 38.81\tMin=> 37.36\tMax=> 39.61\t Time Duration=> 63.94\n",
      "Episode#=> 50\tTotal Average Score=> 20.30\n",
      "Episode#=> 51\tTotal Average Score=> 20.66\tMean=> 38.81\tMin=> 37.48\tMax=> 39.53\t Time Duration=> 64.59\n",
      "Episode#=> 52\tTotal Average Score=> 20.99\tMean=> 38.12\tMin=> 36.87\tMax=> 39.37\t Time Duration=> 64.70\n",
      "Episode#=> 53\tTotal Average Score=> 21.33\tMean=> 38.76\tMin=> 37.46\tMax=> 39.61\t Time Duration=> 64.36\n",
      "Episode#=> 54\tTotal Average Score=> 21.65\tMean=> 38.67\tMin=> 35.68\tMax=> 39.57\t Time Duration=> 64.57\n",
      "Episode#=> 55\tTotal Average Score=> 21.95\tMean=> 38.34\tMin=> 36.79\tMax=> 39.31\t Time Duration=> 64.92\n",
      "Episode#=> 56\tTotal Average Score=> 22.24\tMean=> 37.84\tMin=> 36.09\tMax=> 39.21\t Time Duration=> 64.51\n",
      "Episode#=> 57\tTotal Average Score=> 22.52\tMean=> 38.12\tMin=> 36.46\tMax=> 39.50\t Time Duration=> 64.52\n",
      "Episode#=> 58\tTotal Average Score=> 22.80\tMean=> 39.01\tMin=> 37.77\tMax=> 39.58\t Time Duration=> 64.58\n",
      "Episode#=> 59\tTotal Average Score=> 23.08\tMean=> 39.04\tMin=> 38.00\tMax=> 39.49\t Time Duration=> 65.17\n",
      "Episode#=> 60\tTotal Average Score=> 23.34\tMean=> 38.77\tMin=> 37.07\tMax=> 39.52\t Time Duration=> 64.88\n",
      "Episode#=> 60\tTotal Average Score=> 23.34\n",
      "Episode#=> 61\tTotal Average Score=> 23.59\tMean=> 38.86\tMin=> 37.87\tMax=> 39.46\t Time Duration=> 64.79\n",
      "Episode#=> 62\tTotal Average Score=> 23.83\tMean=> 38.51\tMin=> 37.48\tMax=> 39.14\t Time Duration=> 64.79\n",
      "Episode#=> 63\tTotal Average Score=> 24.08\tMean=> 39.23\tMin=> 38.44\tMax=> 39.55\t Time Duration=> 64.51\n",
      "Episode#=> 64\tTotal Average Score=> 24.31\tMean=> 38.91\tMin=> 38.17\tMax=> 39.51\t Time Duration=> 64.80\n",
      "Episode#=> 65\tTotal Average Score=> 24.52\tMean=> 38.08\tMin=> 36.96\tMax=> 39.26\t Time Duration=> 64.96\n",
      "Episode#=> 66\tTotal Average Score=> 24.72\tMean=> 37.67\tMin=> 36.82\tMax=> 39.18\t Time Duration=> 64.95\n",
      "Episode#=> 67\tTotal Average Score=> 24.92\tMean=> 38.22\tMin=> 36.71\tMax=> 39.36\t Time Duration=> 64.64\n",
      "Episode#=> 68\tTotal Average Score=> 25.13\tMean=> 39.20\tMin=> 38.43\tMax=> 39.59\t Time Duration=> 64.53\n",
      "Episode#=> 69\tTotal Average Score=> 25.34\tMean=> 39.40\tMin=> 38.62\tMax=> 39.61\t Time Duration=> 64.70\n",
      "Episode#=> 70\tTotal Average Score=> 25.52\tMean=> 38.42\tMin=> 37.28\tMax=> 39.51\t Time Duration=> 64.79\n",
      "Episode#=> 70\tTotal Average Score=> 25.52\n",
      "Episode#=> 71\tTotal Average Score=> 25.71\tMean=> 38.58\tMin=> 37.05\tMax=> 39.50\t Time Duration=> 64.37\n",
      "Episode#=> 72\tTotal Average Score=> 25.88\tMean=> 38.16\tMin=> 36.69\tMax=> 39.26\t Time Duration=> 64.84\n",
      "Episode#=> 73\tTotal Average Score=> 26.06\tMean=> 39.04\tMin=> 37.96\tMax=> 39.58\t Time Duration=> 64.60\n",
      "Episode#=> 74\tTotal Average Score=> 26.23\tMean=> 38.75\tMin=> 36.84\tMax=> 39.55\t Time Duration=> 64.67\n",
      "Episode#=> 75\tTotal Average Score=> 26.40\tMean=> 38.56\tMin=> 37.30\tMax=> 39.44\t Time Duration=> 64.52\n",
      "Episode#=> 76\tTotal Average Score=> 26.56\tMean=> 38.70\tMin=> 37.49\tMax=> 39.44\t Time Duration=> 64.97\n",
      "Episode#=> 77\tTotal Average Score=> 26.72\tMean=> 39.27\tMin=> 38.70\tMax=> 39.63\t Time Duration=> 64.84\n",
      "Episode#=> 78\tTotal Average Score=> 26.89\tMean=> 39.27\tMin=> 38.25\tMax=> 39.64\t Time Duration=> 64.64\n",
      "Episode#=> 79\tTotal Average Score=> 27.04\tMean=> 39.22\tMin=> 36.68\tMax=> 39.60\t Time Duration=> 64.38\n",
      "Episode#=> 80\tTotal Average Score=> 27.18\tMean=> 38.31\tMin=> 35.60\tMax=> 39.62\t Time Duration=> 64.74\n",
      "Episode#=> 80\tTotal Average Score=> 27.18\n",
      "Episode#=> 81\tTotal Average Score=> 27.33\tMean=> 38.87\tMin=> 37.82\tMax=> 39.61\t Time Duration=> 64.91\n",
      "Episode#=> 82\tTotal Average Score=> 27.46\tMean=> 38.44\tMin=> 37.19\tMax=> 39.19\t Time Duration=> 64.78\n",
      "Episode#=> 83\tTotal Average Score=> 27.60\tMean=> 38.87\tMin=> 38.01\tMax=> 39.40\t Time Duration=> 64.64\n",
      "Episode#=> 84\tTotal Average Score=> 27.72\tMean=> 37.66\tMin=> 36.29\tMax=> 38.93\t Time Duration=> 64.76\n",
      "Episode#=> 85\tTotal Average Score=> 27.85\tMean=> 38.66\tMin=> 37.69\tMax=> 39.28\t Time Duration=> 64.88\n",
      "Episode#=> 86\tTotal Average Score=> 27.98\tMean=> 38.97\tMin=> 37.76\tMax=> 39.40\t Time Duration=> 64.66\n",
      "Episode#=> 87\tTotal Average Score=> 28.10\tMean=> 38.66\tMin=> 37.44\tMax=> 39.66\t Time Duration=> 64.56\n",
      "Episode#=> 88\tTotal Average Score=> 28.22\tMean=> 38.70\tMin=> 37.82\tMax=> 39.60\t Time Duration=> 64.98\n",
      "Episode#=> 89\tTotal Average Score=> 28.33\tMean=> 38.20\tMin=> 37.21\tMax=> 39.45\t Time Duration=> 65.02\n",
      "Episode#=> 90\tTotal Average Score=> 28.44\tMean=> 37.89\tMin=> 36.17\tMax=> 39.52\t Time Duration=> 64.62\n",
      "Episode#=> 90\tTotal Average Score=> 28.44\n",
      "Episode#=> 91\tTotal Average Score=> 28.55\tMean=> 38.07\tMin=> 36.44\tMax=> 39.32\t Time Duration=> 64.77\n",
      "Episode#=> 92\tTotal Average Score=> 28.65\tMean=> 37.99\tMin=> 36.47\tMax=> 39.11\t Time Duration=> 64.92\n",
      "Episode#=> 93\tTotal Average Score=> 28.75\tMean=> 38.01\tMin=> 36.58\tMax=> 39.09\t Time Duration=> 65.39\n",
      "Episode#=> 94\tTotal Average Score=> 28.85\tMean=> 38.61\tMin=> 37.84\tMax=> 39.40\t Time Duration=> 64.92\n",
      "Episode#=> 95\tTotal Average Score=> 28.95\tMean=> 38.48\tMin=> 37.30\tMax=> 39.10\t Time Duration=> 64.75\n",
      "Episode#=> 96\tTotal Average Score=> 29.03\tMean=> 36.00\tMin=> 33.74\tMax=> 38.69\t Time Duration=> 64.91\n",
      "Episode#=> 97\tTotal Average Score=> 29.12\tMean=> 37.62\tMin=> 35.86\tMax=> 39.59\t Time Duration=> 64.86\n",
      "Episode#=> 98\tTotal Average Score=> 29.21\tMean=> 38.57\tMin=> 36.83\tMax=> 39.48\t Time Duration=> 64.58\n",
      "Episode#=> 99\tTotal Average Score=> 29.30\tMean=> 37.62\tMin=> 36.14\tMax=> 38.65\t Time Duration=> 64.49\n",
      "Episode#=> 100\tTotal Average Score=> 29.39\tMean=> 38.28\tMin=> 35.17\tMax=> 39.32\t Time Duration=> 64.51\n",
      "Episode#=> 100\tTotal Average Score=> 29.39\n",
      "Episode#=> 101\tTotal Average Score=> 29.76\tMean=> 38.21\tMin=> 36.31\tMax=> 39.39\t Time Duration=> 64.79\n",
      "Episode#=> 102\tTotal Average Score=> 30.13\tMean=> 37.36\tMin=> 33.43\tMax=> 38.77\t Time Duration=> 64.85\n",
      "!!!!!Problem Been Solved after 102 # Episodes!!!! Total Average score=> 30.13\n"
     ]
    }
   ],
   "source": [
    "scores = ddpg()"
   ]
  },
  {
   "cell_type": "markdown",
   "metadata": {},
   "source": [
    "### 5. Plots of scores\n",
    "\n",
    "Average Score computations and plot the scores with respect to Episodes"
   ]
  },
  {
   "cell_type": "code",
   "execution_count": 80,
   "metadata": {},
   "outputs": [],
   "source": [
    "N = 100\n",
    "cumsum, moving_aves = [0], []\n",
    "\n",
    "for i, x in enumerate(scores, 1):\n",
    "    cumsum.append(cumsum[i-1] + x)\n",
    "    if i>=N:\n",
    "        moving_ave = (cumsum[i] - cumsum[i-N])/N\n",
    "        #can do stuff with moving_ave here\n",
    "        moving_aves.append(moving_ave)\n",
    "l = [None] * (N-1)\n",
    "l.extend(moving_aves)\n",
    "boundary = [30] * len(l)"
   ]
  },
  {
   "cell_type": "code",
   "execution_count": 81,
   "metadata": {},
   "outputs": [
    {
     "data": {
      "image/png": "[encoded data removed]",
      "text/plain": [
       "<matplotlib.figure.Figure at 0x7ff590fd6358>"
      ]
     },
     "metadata": {
      "needs_background": "light"
     },
     "output_type": "display_data"
    }
   ],
   "source": [
    "fig = plt.figure()\n",
    "ax = fig.add_subplot(1,1,1)\n",
    "plt.plot(np.arange(1, len(scores)+1), scores, 'b', label='Score')\n",
    "plt.plot(np.arange(1, len(l)+1), l, 'r*',label='Average Score 100 consecutive episodes')\n",
    "plt.plot(np.arange(1, len(boundary)+1), boundary, 'g--' ,label='Goal Score')\n",
    "plt.ylabel('Score')\n",
    "plt.xlabel('# Episode')\n",
    "plt.legend(loc='lower right')\n",
    "plt.show()"
   ]
  },
  {
   "cell_type": "markdown",
   "metadata": {},
   "source": [
    "### 6. Agent using the saved weights to execute"
   ]
  },
  {
   "cell_type": "code",
   "execution_count": 66,
   "metadata": {},
   "outputs": [
    {
     "name": "stdout",
     "output_type": "stream",
     "text": [
      "Total score=> 38.54099913854152\n"
     ]
    }
   ],
   "source": [
    "# Load the saved weights into Pytorch model\n",
    "agent.actor_local.load_state_dict(torch.load('checkpoint_actor.pth', map_location='cpu'))\n",
    "agent.critic_local.load_state_dict(torch.load('checkpoint_critic.pth', map_location='cpu'))\n",
    "\n",
    "env_info = env.reset(train_mode=False)[brain_name]     # reset the environment    \n",
    "states = env_info.vector_observations                  # get the current state (for each agent)\n",
    "scores = np.zeros(num_agents)                          # initialize the score (for each agent)\n",
    "\n",
    "while True:\n",
    "    actions = agent.act(states)                        # select actions from loaded model agent\n",
    "    env_info = env.step(actions)[brain_name]           # send all actions to tne environment\n",
    "    next_states = env_info.vector_observations         # get next state (for each agent)\n",
    "    rewards = env_info.rewards                         # get reward (for each agent)\n",
    "    dones = env_info.local_done                        # see if episode finished\n",
    "    scores += env_info.rewards                         # update the score (for each agent)\n",
    "    states = next_states                               # roll over states to next time step\n",
    "    if np.any(dones):                                  # exit loop if episode finished\n",
    "        break\n",
    "print('Total score=> {}'.format(np.mean(scores)))"
   ]
  },
  {
   "cell_type": "code",
   "execution_count": 80,
   "metadata": {},
   "outputs": [],
   "source": [
    "#close the environment\n",
    "env.close()"
   ]
  }
 ],
 "metadata": {
  "kernelspec": {
   "display_name": "Python 3",
   "language": "python",
   "name": "python3"
  },
  "language_info": {
   "codemirror_mode": {
    "name": "ipython",
    "version": 3
   },
   "file_extension": ".py",
   "mimetype": "text/x-python",
   "name": "python",
   "nbconvert_exporter": "python",
   "pygments_lexer": "ipython3",
   "version": "3.6.3"
  }
 },
 "nbformat": 4,
 "nbformat_minor": 2
}
